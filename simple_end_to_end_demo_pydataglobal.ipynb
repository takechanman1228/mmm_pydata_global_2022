{
  "cells": [
    {
      "cell_type": "markdown",
      "metadata": {
        "id": "view-in-github",
        "colab_type": "text"
      },
      "source": [
        "<a href=\"https://colab.research.google.com/github/takechanman1228/mmm_pydata_global_2022/blob/main/simple_end_to_end_demo_pydataglobal.ipynb\" target=\"_parent\"><img src=\"https://colab.research.google.com/assets/colab-badge.svg\" alt=\"Open In Colab\"/></a>"
      ]
    },
    {
      "cell_type": "markdown",
      "metadata": {
        "id": "x1LyGCNZhWBH"
      },
      "source": [
        ":<table class=\"tfo-notebook-buttons\" align=\"left\">\n",
        "  <td>\n",
        "    <a target=\"_blank\" href=\"https://colab.research.google.com/github/google/lightweight_mmm/blob/main/examples/simple_end_to_end_demo.ipynb\"><img src=\"https://www.tensorflow.org/images/colab_logo_32px.png\" />Run in Google Colab</a>\n",
        "  </td>\n",
        "  <td>\n",
        "    <a target=\"_blank\" href=\"https://github.com/google/lightweight_mmm/blob/main/examples/simple_end_to_end_demo.ipynb\"><img src=\"https://www.tensorflow.org/images/GitHub-Mark-32px.png\" />View source on GitHub</a>\n",
        "  </td>\n",
        "</table>"
      ]
    },
    {
      "cell_type": "markdown",
      "metadata": {
        "id": "AEdi78qH1Jhq"
      },
      "source": [
        "# Simple End to End Demo"
      ]
    },
    {
      "cell_type": "markdown",
      "metadata": {
        "id": "gmrJXoY2PlKI"
      },
      "source": [
        "<font color='red'> This notebook is based on tutorial notebook of lightweight_mmm. </font>\n",
        "\n",
        "https://github.com/google/lightweight_mmm/blob/main/examples/simple_end_to_end_demo.ipynb\n",
        "\n",
        "<font color='red'> Also, this notebook uses data set from this repository</font>\n",
        "\n",
        "https://github.com/sibylhe/mmm_stan"
      ]
    },
    {
      "cell_type": "markdown",
      "metadata": {
        "id": "WmpDBp6dusp0"
      },
      "source": [
        "For running chains in parallel you can set the number of CPUs at the begining of the program like the following:\n",
        "`numpyro.set_host_device_count(n)`"
      ]
    },
    {
      "cell_type": "code",
      "execution_count": 34,
      "metadata": {
        "id": "EmkFKiQjZ7kC",
        "colab": {
          "base_uri": "https://localhost:8080/"
        },
        "outputId": "6677cf8a-ee5e-46a8-8d77-63270d9392cd"
      },
      "outputs": [
        {
          "output_type": "stream",
          "name": "stdout",
          "text": [
            "Looking in indexes: https://pypi.org/simple, https://us-python.pkg.dev/colab-wheels/public/simple/\n",
            "Collecting git+https://github.com/google/lightweight_mmm.git\n",
            "  Cloning https://github.com/google/lightweight_mmm.git to /tmp/pip-req-build-ib8rsd4b\n",
            "  Running command git clone -q https://github.com/google/lightweight_mmm.git /tmp/pip-req-build-ib8rsd4b\n",
            "Requirement already satisfied: absl-py in /usr/local/lib/python3.8/dist-packages (from lightweight-mmm==0.1.6) (1.3.0)\n",
            "Requirement already satisfied: arviz==0.11.2 in /usr/local/lib/python3.8/dist-packages (from lightweight-mmm==0.1.6) (0.11.2)\n",
            "Requirement already satisfied: immutabledict>=2.0.0 in /usr/local/lib/python3.8/dist-packages (from lightweight-mmm==0.1.6) (2.2.3)\n",
            "Requirement already satisfied: jax>=0.3.18 in /usr/local/lib/python3.8/dist-packages (from lightweight-mmm==0.1.6) (0.3.25)\n",
            "Requirement already satisfied: jaxlib>=0.3.18 in /usr/local/lib/python3.8/dist-packages (from lightweight-mmm==0.1.6) (0.3.25+cuda11.cudnn805)\n",
            "Requirement already satisfied: matplotlib==3.3.4 in /usr/local/lib/python3.8/dist-packages (from lightweight-mmm==0.1.6) (3.3.4)\n",
            "Requirement already satisfied: numpy>=1.12 in /usr/local/lib/python3.8/dist-packages (from lightweight-mmm==0.1.6) (1.21.6)\n",
            "Requirement already satisfied: numpyro>=0.9.2 in /usr/local/lib/python3.8/dist-packages (from lightweight-mmm==0.1.6) (0.10.1)\n",
            "Requirement already satisfied: pandas>=1.1.5 in /usr/local/lib/python3.8/dist-packages (from lightweight-mmm==0.1.6) (1.3.5)\n",
            "Requirement already satisfied: scipy in /usr/local/lib/python3.8/dist-packages (from lightweight-mmm==0.1.6) (1.7.3)\n",
            "Requirement already satisfied: seaborn==0.11.1 in /usr/local/lib/python3.8/dist-packages (from lightweight-mmm==0.1.6) (0.11.1)\n",
            "Requirement already satisfied: scikit-learn in /usr/local/lib/python3.8/dist-packages (from lightweight-mmm==0.1.6) (1.0.2)\n",
            "Requirement already satisfied: tensorflow>=2.7.2 in /usr/local/lib/python3.8/dist-packages (from lightweight-mmm==0.1.6) (2.9.2)\n",
            "Requirement already satisfied: typing-extensions<4,>=3.7.4.3 in /usr/local/lib/python3.8/dist-packages (from arviz==0.11.2->lightweight-mmm==0.1.6) (3.10.0.2)\n",
            "Requirement already satisfied: setuptools>=38.4 in /usr/local/lib/python3.8/dist-packages (from arviz==0.11.2->lightweight-mmm==0.1.6) (57.4.0)\n",
            "Requirement already satisfied: xarray>=0.16.1 in /usr/local/lib/python3.8/dist-packages (from arviz==0.11.2->lightweight-mmm==0.1.6) (0.20.2)\n",
            "Requirement already satisfied: packaging in /usr/local/lib/python3.8/dist-packages (from arviz==0.11.2->lightweight-mmm==0.1.6) (21.3)\n",
            "Requirement already satisfied: netcdf4 in /usr/local/lib/python3.8/dist-packages (from arviz==0.11.2->lightweight-mmm==0.1.6) (1.6.2)\n",
            "Requirement already satisfied: pyparsing!=2.0.4,!=2.1.2,!=2.1.6,>=2.0.3 in /usr/local/lib/python3.8/dist-packages (from matplotlib==3.3.4->lightweight-mmm==0.1.6) (3.0.9)\n",
            "Requirement already satisfied: cycler>=0.10 in /usr/local/lib/python3.8/dist-packages (from matplotlib==3.3.4->lightweight-mmm==0.1.6) (0.11.0)\n",
            "Requirement already satisfied: python-dateutil>=2.1 in /usr/local/lib/python3.8/dist-packages (from matplotlib==3.3.4->lightweight-mmm==0.1.6) (2.8.2)\n",
            "Requirement already satisfied: pillow>=6.2.0 in /usr/local/lib/python3.8/dist-packages (from matplotlib==3.3.4->lightweight-mmm==0.1.6) (7.1.2)\n",
            "Requirement already satisfied: kiwisolver>=1.0.1 in /usr/local/lib/python3.8/dist-packages (from matplotlib==3.3.4->lightweight-mmm==0.1.6) (1.4.4)\n",
            "Requirement already satisfied: opt-einsum in /usr/local/lib/python3.8/dist-packages (from jax>=0.3.18->lightweight-mmm==0.1.6) (3.3.0)\n",
            "Requirement already satisfied: tqdm in /usr/local/lib/python3.8/dist-packages (from numpyro>=0.9.2->lightweight-mmm==0.1.6) (4.64.1)\n",
            "Requirement already satisfied: multipledispatch in /usr/local/lib/python3.8/dist-packages (from numpyro>=0.9.2->lightweight-mmm==0.1.6) (0.6.0)\n",
            "Requirement already satisfied: pytz>=2017.3 in /usr/local/lib/python3.8/dist-packages (from pandas>=1.1.5->lightweight-mmm==0.1.6) (2022.6)\n",
            "Requirement already satisfied: six>=1.5 in /usr/local/lib/python3.8/dist-packages (from python-dateutil>=2.1->matplotlib==3.3.4->lightweight-mmm==0.1.6) (1.15.0)\n",
            "Requirement already satisfied: tensorflow-io-gcs-filesystem>=0.23.1 in /usr/local/lib/python3.8/dist-packages (from tensorflow>=2.7.2->lightweight-mmm==0.1.6) (0.28.0)\n",
            "Requirement already satisfied: tensorflow-estimator<2.10.0,>=2.9.0rc0 in /usr/local/lib/python3.8/dist-packages (from tensorflow>=2.7.2->lightweight-mmm==0.1.6) (2.9.0)\n",
            "Requirement already satisfied: termcolor>=1.1.0 in /usr/local/lib/python3.8/dist-packages (from tensorflow>=2.7.2->lightweight-mmm==0.1.6) (2.1.1)\n",
            "Requirement already satisfied: google-pasta>=0.1.1 in /usr/local/lib/python3.8/dist-packages (from tensorflow>=2.7.2->lightweight-mmm==0.1.6) (0.2.0)\n",
            "Requirement already satisfied: wrapt>=1.11.0 in /usr/local/lib/python3.8/dist-packages (from tensorflow>=2.7.2->lightweight-mmm==0.1.6) (1.14.1)\n",
            "Requirement already satisfied: tensorboard<2.10,>=2.9 in /usr/local/lib/python3.8/dist-packages (from tensorflow>=2.7.2->lightweight-mmm==0.1.6) (2.9.1)\n",
            "Requirement already satisfied: h5py>=2.9.0 in /usr/local/lib/python3.8/dist-packages (from tensorflow>=2.7.2->lightweight-mmm==0.1.6) (3.1.0)\n",
            "Requirement already satisfied: gast<=0.4.0,>=0.2.1 in /usr/local/lib/python3.8/dist-packages (from tensorflow>=2.7.2->lightweight-mmm==0.1.6) (0.4.0)\n",
            "Requirement already satisfied: flatbuffers<2,>=1.12 in /usr/local/lib/python3.8/dist-packages (from tensorflow>=2.7.2->lightweight-mmm==0.1.6) (1.12)\n",
            "Requirement already satisfied: grpcio<2.0,>=1.24.3 in /usr/local/lib/python3.8/dist-packages (from tensorflow>=2.7.2->lightweight-mmm==0.1.6) (1.50.0)\n",
            "Requirement already satisfied: protobuf<3.20,>=3.9.2 in /usr/local/lib/python3.8/dist-packages (from tensorflow>=2.7.2->lightweight-mmm==0.1.6) (3.19.6)\n",
            "Requirement already satisfied: keras-preprocessing>=1.1.1 in /usr/local/lib/python3.8/dist-packages (from tensorflow>=2.7.2->lightweight-mmm==0.1.6) (1.1.2)\n",
            "Requirement already satisfied: astunparse>=1.6.0 in /usr/local/lib/python3.8/dist-packages (from tensorflow>=2.7.2->lightweight-mmm==0.1.6) (1.6.3)\n",
            "Requirement already satisfied: libclang>=13.0.0 in /usr/local/lib/python3.8/dist-packages (from tensorflow>=2.7.2->lightweight-mmm==0.1.6) (14.0.6)\n",
            "Requirement already satisfied: keras<2.10.0,>=2.9.0rc0 in /usr/local/lib/python3.8/dist-packages (from tensorflow>=2.7.2->lightweight-mmm==0.1.6) (2.9.0)\n",
            "Requirement already satisfied: wheel<1.0,>=0.23.0 in /usr/local/lib/python3.8/dist-packages (from astunparse>=1.6.0->tensorflow>=2.7.2->lightweight-mmm==0.1.6) (0.38.4)\n",
            "Requirement already satisfied: requests<3,>=2.21.0 in /usr/local/lib/python3.8/dist-packages (from tensorboard<2.10,>=2.9->tensorflow>=2.7.2->lightweight-mmm==0.1.6) (2.23.0)\n",
            "Requirement already satisfied: tensorboard-data-server<0.7.0,>=0.6.0 in /usr/local/lib/python3.8/dist-packages (from tensorboard<2.10,>=2.9->tensorflow>=2.7.2->lightweight-mmm==0.1.6) (0.6.1)\n",
            "Requirement already satisfied: google-auth-oauthlib<0.5,>=0.4.1 in /usr/local/lib/python3.8/dist-packages (from tensorboard<2.10,>=2.9->tensorflow>=2.7.2->lightweight-mmm==0.1.6) (0.4.6)\n",
            "Requirement already satisfied: tensorboard-plugin-wit>=1.6.0 in /usr/local/lib/python3.8/dist-packages (from tensorboard<2.10,>=2.9->tensorflow>=2.7.2->lightweight-mmm==0.1.6) (1.8.1)\n",
            "Requirement already satisfied: markdown>=2.6.8 in /usr/local/lib/python3.8/dist-packages (from tensorboard<2.10,>=2.9->tensorflow>=2.7.2->lightweight-mmm==0.1.6) (3.4.1)\n",
            "Requirement already satisfied: google-auth<3,>=1.6.3 in /usr/local/lib/python3.8/dist-packages (from tensorboard<2.10,>=2.9->tensorflow>=2.7.2->lightweight-mmm==0.1.6) (2.14.1)\n",
            "Requirement already satisfied: werkzeug>=1.0.1 in /usr/local/lib/python3.8/dist-packages (from tensorboard<2.10,>=2.9->tensorflow>=2.7.2->lightweight-mmm==0.1.6) (1.0.1)\n",
            "Requirement already satisfied: rsa<5,>=3.1.4 in /usr/local/lib/python3.8/dist-packages (from google-auth<3,>=1.6.3->tensorboard<2.10,>=2.9->tensorflow>=2.7.2->lightweight-mmm==0.1.6) (4.9)\n",
            "Requirement already satisfied: pyasn1-modules>=0.2.1 in /usr/local/lib/python3.8/dist-packages (from google-auth<3,>=1.6.3->tensorboard<2.10,>=2.9->tensorflow>=2.7.2->lightweight-mmm==0.1.6) (0.2.8)\n",
            "Requirement already satisfied: cachetools<6.0,>=2.0.0 in /usr/local/lib/python3.8/dist-packages (from google-auth<3,>=1.6.3->tensorboard<2.10,>=2.9->tensorflow>=2.7.2->lightweight-mmm==0.1.6) (5.2.0)\n",
            "Requirement already satisfied: requests-oauthlib>=0.7.0 in /usr/local/lib/python3.8/dist-packages (from google-auth-oauthlib<0.5,>=0.4.1->tensorboard<2.10,>=2.9->tensorflow>=2.7.2->lightweight-mmm==0.1.6) (1.3.1)\n",
            "Requirement already satisfied: importlib-metadata>=4.4 in /usr/local/lib/python3.8/dist-packages (from markdown>=2.6.8->tensorboard<2.10,>=2.9->tensorflow>=2.7.2->lightweight-mmm==0.1.6) (4.13.0)\n",
            "Requirement already satisfied: zipp>=0.5 in /usr/local/lib/python3.8/dist-packages (from importlib-metadata>=4.4->markdown>=2.6.8->tensorboard<2.10,>=2.9->tensorflow>=2.7.2->lightweight-mmm==0.1.6) (3.10.0)\n",
            "Requirement already satisfied: pyasn1<0.5.0,>=0.4.6 in /usr/local/lib/python3.8/dist-packages (from pyasn1-modules>=0.2.1->google-auth<3,>=1.6.3->tensorboard<2.10,>=2.9->tensorflow>=2.7.2->lightweight-mmm==0.1.6) (0.4.8)\n",
            "Requirement already satisfied: urllib3!=1.25.0,!=1.25.1,<1.26,>=1.21.1 in /usr/local/lib/python3.8/dist-packages (from requests<3,>=2.21.0->tensorboard<2.10,>=2.9->tensorflow>=2.7.2->lightweight-mmm==0.1.6) (1.24.3)\n",
            "Requirement already satisfied: idna<3,>=2.5 in /usr/local/lib/python3.8/dist-packages (from requests<3,>=2.21.0->tensorboard<2.10,>=2.9->tensorflow>=2.7.2->lightweight-mmm==0.1.6) (2.10)\n",
            "Requirement already satisfied: chardet<4,>=3.0.2 in /usr/local/lib/python3.8/dist-packages (from requests<3,>=2.21.0->tensorboard<2.10,>=2.9->tensorflow>=2.7.2->lightweight-mmm==0.1.6) (3.0.4)\n",
            "Requirement already satisfied: certifi>=2017.4.17 in /usr/local/lib/python3.8/dist-packages (from requests<3,>=2.21.0->tensorboard<2.10,>=2.9->tensorflow>=2.7.2->lightweight-mmm==0.1.6) (2022.9.24)\n",
            "Requirement already satisfied: oauthlib>=3.0.0 in /usr/local/lib/python3.8/dist-packages (from requests-oauthlib>=0.7.0->google-auth-oauthlib<0.5,>=0.4.1->tensorboard<2.10,>=2.9->tensorflow>=2.7.2->lightweight-mmm==0.1.6) (3.2.2)\n",
            "Requirement already satisfied: cftime in /usr/local/lib/python3.8/dist-packages (from netcdf4->arviz==0.11.2->lightweight-mmm==0.1.6) (1.6.2)\n",
            "Requirement already satisfied: joblib>=0.11 in /usr/local/lib/python3.8/dist-packages (from scikit-learn->lightweight-mmm==0.1.6) (1.2.0)\n",
            "Requirement already satisfied: threadpoolctl>=2.0.0 in /usr/local/lib/python3.8/dist-packages (from scikit-learn->lightweight-mmm==0.1.6) (3.1.0)\n"
          ]
        }
      ],
      "source": [
        "# First would be to install lightweight_mmm\n",
        "# If you face the error that requests to restart runtime, Click the restart runtime button and re-install it.\n",
        "!pip install --upgrade git+https://github.com/google/lightweight_mmm.git"
      ]
    },
    {
      "cell_type": "code",
      "execution_count": 35,
      "metadata": {
        "id": "afF7ZlEz37eC"
      },
      "outputs": [],
      "source": [
        "# Import jax.numpy and any other library we might need.\n",
        "import jax.numpy as jnp\n",
        "import numpyro"
      ]
    },
    {
      "cell_type": "code",
      "execution_count": 36,
      "metadata": {
        "id": "Ltk-rB9y-_fh"
      },
      "outputs": [],
      "source": [
        "# Import the relevant modules of the library\n",
        "from lightweight_mmm import lightweight_mmm\n",
        "from lightweight_mmm import optimize_media\n",
        "from lightweight_mmm import plot\n",
        "from lightweight_mmm import preprocessing\n",
        "from lightweight_mmm import utils"
      ]
    },
    {
      "cell_type": "markdown",
      "metadata": {
        "id": "lGa5iPF4zdOo"
      },
      "source": [
        "## Organising the data for modelling"
      ]
    },
    {
      "cell_type": "code",
      "execution_count": 37,
      "metadata": {
        "id": "Brr-FRA_W6we"
      },
      "outputs": [],
      "source": [
        "import pandas as pd\n",
        "\n",
        "# I am not sure whether this data set is real, dummy, or simulated data, but for me, it looks more realistic than any other data I found on the internet.\n",
        "df = pd.read_csv(\"https://raw.githubusercontent.com/sibylhe/mmm_stan/main/data.csv\")\n",
        "\n",
        "# 1. media variables\n",
        "# media spending (Simplified media channel for demo)\n",
        "mdsp_cols=[col for col in df.columns if 'mdsp_' in col and col !='mdsp_viddig' and col != 'mdsp_auddig' and col != 'mdsp_sem']\n",
        "\n",
        "# 2. control variables\n",
        "# macro economics variables\n",
        "me_cols = [col for col in df.columns if 'me_' in col]\n",
        "# markdown/discount variables\n",
        "mrkdn_cols = [col for col in df.columns if 'mrkdn_' in col]\n",
        "# holiday variables\n",
        "hldy_cols = [col for col in df.columns if 'hldy_' in col]\n",
        "# seasonality variables\n",
        "seas_cols = [col for col in df.columns if 'seas_' in col]\n",
        "\n",
        "control_vars = me_cols + mrkdn_cols + hldy_cols + seas_cols\n",
        "\n",
        "# 3. sales variables\n",
        "sales_cols =['sales']\n",
        "\n",
        "df_main = df[['wk_strt_dt']+sales_cols+mdsp_cols+control_vars]\n",
        "df_main = df_main.rename(columns={'mdsp_dm': 'Direct Mail', 'mdsp_inst': 'Insert', 'mdsp_nsp': 'Newspaper', 'mdsp_audtr': 'Radio', 'mdsp_vidtr': 'TV', 'mdsp_so': 'Social Media', 'mdsp_on': 'Online Display'})\n",
        "mdsp_cols = [\"Direct Mail\",\"Insert\", \"Newspaper\", \"Radio\", \"TV\", \"Social Media\", \"Online Display\"]\n",
        "\n"
      ]
    },
    {
      "cell_type": "code",
      "execution_count": 38,
      "metadata": {
        "id": "sQLXnjB-R3k_",
        "colab": {
          "base_uri": "https://localhost:8080/",
          "height": 317
        },
        "outputId": "4a195db7-3c63-4210-84b5-270ce71f2c99"
      },
      "outputs": [
        {
          "output_type": "execute_result",
          "data": {
            "text/plain": [
              "   wk_strt_dt        sales  Direct Mail     Insert  Newspaper      Radio  \\\n",
              "0  2014-08-03  72051457.64    678410.26  129759.66  507635.16  254134.14   \n",
              "1  2014-08-10  78794770.54    661097.71   70355.33  625719.37  106602.98   \n",
              "2  2014-08-17  70071185.56   1874338.43  107720.37  277532.61   59011.42   \n",
              "3  2014-08-24  68642464.59    306583.37  141708.61  186028.61  178010.46   \n",
              "4  2014-08-31  86190784.65   2366274.16  160691.30  706694.09  144097.56   \n",
              "\n",
              "          TV  Social Media  Online Display  me_ics_all  ...  seas_prd_12  \\\n",
              "0  216725.59           0.0        61364.75        82.5  ...            0   \n",
              "1  108919.26           0.0       132643.90        82.5  ...            0   \n",
              "2   74032.19           0.0        76741.27        82.5  ...            0   \n",
              "3  110995.66           0.0       193043.55        82.5  ...            0   \n",
              "4  225140.84           0.0       249612.89        84.6  ...            0   \n",
              "\n",
              "   seas_week_40  seas_week_41  seas_week_42  seas_week_43  seas_week_44  \\\n",
              "0             0             0             0             0             0   \n",
              "1             0             0             0             0             0   \n",
              "2             0             0             0             0             0   \n",
              "3             0             0             0             0             0   \n",
              "4             0             0             0             0             0   \n",
              "\n",
              "   seas_week_45  seas_week_46  seas_week_47  seas_week_48  \n",
              "0             0             0             0             0  \n",
              "1             0             0             0             0  \n",
              "2             0             0             0             0  \n",
              "3             0             0             0             0  \n",
              "4             0             0             0             0  \n",
              "\n",
              "[5 rows x 54 columns]"
            ],
            "text/html": [
              "\n",
              "  <div id=\"df-947683a3-61f1-4e23-beb3-69ca8b6eb87e\">\n",
              "    <div class=\"colab-df-container\">\n",
              "      <div>\n",
              "<style scoped>\n",
              "    .dataframe tbody tr th:only-of-type {\n",
              "        vertical-align: middle;\n",
              "    }\n",
              "\n",
              "    .dataframe tbody tr th {\n",
              "        vertical-align: top;\n",
              "    }\n",
              "\n",
              "    .dataframe thead th {\n",
              "        text-align: right;\n",
              "    }\n",
              "</style>\n",
              "<table border=\"1\" class=\"dataframe\">\n",
              "  <thead>\n",
              "    <tr style=\"text-align: right;\">\n",
              "      <th></th>\n",
              "      <th>wk_strt_dt</th>\n",
              "      <th>sales</th>\n",
              "      <th>Direct Mail</th>\n",
              "      <th>Insert</th>\n",
              "      <th>Newspaper</th>\n",
              "      <th>Radio</th>\n",
              "      <th>TV</th>\n",
              "      <th>Social Media</th>\n",
              "      <th>Online Display</th>\n",
              "      <th>me_ics_all</th>\n",
              "      <th>...</th>\n",
              "      <th>seas_prd_12</th>\n",
              "      <th>seas_week_40</th>\n",
              "      <th>seas_week_41</th>\n",
              "      <th>seas_week_42</th>\n",
              "      <th>seas_week_43</th>\n",
              "      <th>seas_week_44</th>\n",
              "      <th>seas_week_45</th>\n",
              "      <th>seas_week_46</th>\n",
              "      <th>seas_week_47</th>\n",
              "      <th>seas_week_48</th>\n",
              "    </tr>\n",
              "  </thead>\n",
              "  <tbody>\n",
              "    <tr>\n",
              "      <th>0</th>\n",
              "      <td>2014-08-03</td>\n",
              "      <td>72051457.64</td>\n",
              "      <td>678410.26</td>\n",
              "      <td>129759.66</td>\n",
              "      <td>507635.16</td>\n",
              "      <td>254134.14</td>\n",
              "      <td>216725.59</td>\n",
              "      <td>0.0</td>\n",
              "      <td>61364.75</td>\n",
              "      <td>82.5</td>\n",
              "      <td>...</td>\n",
              "      <td>0</td>\n",
              "      <td>0</td>\n",
              "      <td>0</td>\n",
              "      <td>0</td>\n",
              "      <td>0</td>\n",
              "      <td>0</td>\n",
              "      <td>0</td>\n",
              "      <td>0</td>\n",
              "      <td>0</td>\n",
              "      <td>0</td>\n",
              "    </tr>\n",
              "    <tr>\n",
              "      <th>1</th>\n",
              "      <td>2014-08-10</td>\n",
              "      <td>78794770.54</td>\n",
              "      <td>661097.71</td>\n",
              "      <td>70355.33</td>\n",
              "      <td>625719.37</td>\n",
              "      <td>106602.98</td>\n",
              "      <td>108919.26</td>\n",
              "      <td>0.0</td>\n",
              "      <td>132643.90</td>\n",
              "      <td>82.5</td>\n",
              "      <td>...</td>\n",
              "      <td>0</td>\n",
              "      <td>0</td>\n",
              "      <td>0</td>\n",
              "      <td>0</td>\n",
              "      <td>0</td>\n",
              "      <td>0</td>\n",
              "      <td>0</td>\n",
              "      <td>0</td>\n",
              "      <td>0</td>\n",
              "      <td>0</td>\n",
              "    </tr>\n",
              "    <tr>\n",
              "      <th>2</th>\n",
              "      <td>2014-08-17</td>\n",
              "      <td>70071185.56</td>\n",
              "      <td>1874338.43</td>\n",
              "      <td>107720.37</td>\n",
              "      <td>277532.61</td>\n",
              "      <td>59011.42</td>\n",
              "      <td>74032.19</td>\n",
              "      <td>0.0</td>\n",
              "      <td>76741.27</td>\n",
              "      <td>82.5</td>\n",
              "      <td>...</td>\n",
              "      <td>0</td>\n",
              "      <td>0</td>\n",
              "      <td>0</td>\n",
              "      <td>0</td>\n",
              "      <td>0</td>\n",
              "      <td>0</td>\n",
              "      <td>0</td>\n",
              "      <td>0</td>\n",
              "      <td>0</td>\n",
              "      <td>0</td>\n",
              "    </tr>\n",
              "    <tr>\n",
              "      <th>3</th>\n",
              "      <td>2014-08-24</td>\n",
              "      <td>68642464.59</td>\n",
              "      <td>306583.37</td>\n",
              "      <td>141708.61</td>\n",
              "      <td>186028.61</td>\n",
              "      <td>178010.46</td>\n",
              "      <td>110995.66</td>\n",
              "      <td>0.0</td>\n",
              "      <td>193043.55</td>\n",
              "      <td>82.5</td>\n",
              "      <td>...</td>\n",
              "      <td>0</td>\n",
              "      <td>0</td>\n",
              "      <td>0</td>\n",
              "      <td>0</td>\n",
              "      <td>0</td>\n",
              "      <td>0</td>\n",
              "      <td>0</td>\n",
              "      <td>0</td>\n",
              "      <td>0</td>\n",
              "      <td>0</td>\n",
              "    </tr>\n",
              "    <tr>\n",
              "      <th>4</th>\n",
              "      <td>2014-08-31</td>\n",
              "      <td>86190784.65</td>\n",
              "      <td>2366274.16</td>\n",
              "      <td>160691.30</td>\n",
              "      <td>706694.09</td>\n",
              "      <td>144097.56</td>\n",
              "      <td>225140.84</td>\n",
              "      <td>0.0</td>\n",
              "      <td>249612.89</td>\n",
              "      <td>84.6</td>\n",
              "      <td>...</td>\n",
              "      <td>0</td>\n",
              "      <td>0</td>\n",
              "      <td>0</td>\n",
              "      <td>0</td>\n",
              "      <td>0</td>\n",
              "      <td>0</td>\n",
              "      <td>0</td>\n",
              "      <td>0</td>\n",
              "      <td>0</td>\n",
              "      <td>0</td>\n",
              "    </tr>\n",
              "  </tbody>\n",
              "</table>\n",
              "<p>5 rows × 54 columns</p>\n",
              "</div>\n",
              "      <button class=\"colab-df-convert\" onclick=\"convertToInteractive('df-947683a3-61f1-4e23-beb3-69ca8b6eb87e')\"\n",
              "              title=\"Convert this dataframe to an interactive table.\"\n",
              "              style=\"display:none;\">\n",
              "        \n",
              "  <svg xmlns=\"http://www.w3.org/2000/svg\" height=\"24px\"viewBox=\"0 0 24 24\"\n",
              "       width=\"24px\">\n",
              "    <path d=\"M0 0h24v24H0V0z\" fill=\"none\"/>\n",
              "    <path d=\"M18.56 5.44l.94 2.06.94-2.06 2.06-.94-2.06-.94-.94-2.06-.94 2.06-2.06.94zm-11 1L8.5 8.5l.94-2.06 2.06-.94-2.06-.94L8.5 2.5l-.94 2.06-2.06.94zm10 10l.94 2.06.94-2.06 2.06-.94-2.06-.94-.94-2.06-.94 2.06-2.06.94z\"/><path d=\"M17.41 7.96l-1.37-1.37c-.4-.4-.92-.59-1.43-.59-.52 0-1.04.2-1.43.59L10.3 9.45l-7.72 7.72c-.78.78-.78 2.05 0 2.83L4 21.41c.39.39.9.59 1.41.59.51 0 1.02-.2 1.41-.59l7.78-7.78 2.81-2.81c.8-.78.8-2.07 0-2.86zM5.41 20L4 18.59l7.72-7.72 1.47 1.35L5.41 20z\"/>\n",
              "  </svg>\n",
              "      </button>\n",
              "      \n",
              "  <style>\n",
              "    .colab-df-container {\n",
              "      display:flex;\n",
              "      flex-wrap:wrap;\n",
              "      gap: 12px;\n",
              "    }\n",
              "\n",
              "    .colab-df-convert {\n",
              "      background-color: #E8F0FE;\n",
              "      border: none;\n",
              "      border-radius: 50%;\n",
              "      cursor: pointer;\n",
              "      display: none;\n",
              "      fill: #1967D2;\n",
              "      height: 32px;\n",
              "      padding: 0 0 0 0;\n",
              "      width: 32px;\n",
              "    }\n",
              "\n",
              "    .colab-df-convert:hover {\n",
              "      background-color: #E2EBFA;\n",
              "      box-shadow: 0px 1px 2px rgba(60, 64, 67, 0.3), 0px 1px 3px 1px rgba(60, 64, 67, 0.15);\n",
              "      fill: #174EA6;\n",
              "    }\n",
              "\n",
              "    [theme=dark] .colab-df-convert {\n",
              "      background-color: #3B4455;\n",
              "      fill: #D2E3FC;\n",
              "    }\n",
              "\n",
              "    [theme=dark] .colab-df-convert:hover {\n",
              "      background-color: #434B5C;\n",
              "      box-shadow: 0px 1px 3px 1px rgba(0, 0, 0, 0.15);\n",
              "      filter: drop-shadow(0px 1px 2px rgba(0, 0, 0, 0.3));\n",
              "      fill: #FFFFFF;\n",
              "    }\n",
              "  </style>\n",
              "\n",
              "      <script>\n",
              "        const buttonEl =\n",
              "          document.querySelector('#df-947683a3-61f1-4e23-beb3-69ca8b6eb87e button.colab-df-convert');\n",
              "        buttonEl.style.display =\n",
              "          google.colab.kernel.accessAllowed ? 'block' : 'none';\n",
              "\n",
              "        async function convertToInteractive(key) {\n",
              "          const element = document.querySelector('#df-947683a3-61f1-4e23-beb3-69ca8b6eb87e');\n",
              "          const dataTable =\n",
              "            await google.colab.kernel.invokeFunction('convertToInteractive',\n",
              "                                                     [key], {});\n",
              "          if (!dataTable) return;\n",
              "\n",
              "          const docLinkHtml = 'Like what you see? Visit the ' +\n",
              "            '<a target=\"_blank\" href=https://colab.research.google.com/notebooks/data_table.ipynb>data table notebook</a>'\n",
              "            + ' to learn more about interactive tables.';\n",
              "          element.innerHTML = '';\n",
              "          dataTable['output_type'] = 'display_data';\n",
              "          await google.colab.output.renderOutput(dataTable, element);\n",
              "          const docLink = document.createElement('div');\n",
              "          docLink.innerHTML = docLinkHtml;\n",
              "          element.appendChild(docLink);\n",
              "        }\n",
              "      </script>\n",
              "    </div>\n",
              "  </div>\n",
              "  "
            ]
          },
          "metadata": {},
          "execution_count": 38
        }
      ],
      "source": [
        "df_main.head()"
      ]
    },
    {
      "cell_type": "code",
      "execution_count": 39,
      "metadata": {
        "id": "AF0gS72Hhwml"
      },
      "outputs": [],
      "source": [
        "SEED = 105"
      ]
    },
    {
      "cell_type": "code",
      "execution_count": 40,
      "metadata": {
        "id": "R6oDCH5w4M_y"
      },
      "outputs": [],
      "source": [
        "\n",
        "data_size = len(df_main)\n",
        "\n",
        "n_media_channels = len(mdsp_cols)\n",
        "n_extra_features = len(control_vars)\n",
        "media_data = df_main[mdsp_cols].to_numpy()\n",
        "extra_features = df_main[control_vars].to_numpy()\n",
        "target = df_main['sales'].to_numpy()\n",
        "costs = df_main[mdsp_cols].sum().to_numpy()"
      ]
    },
    {
      "cell_type": "markdown",
      "metadata": {
        "id": "58yFB05A4e0j"
      },
      "source": [
        "We can then split the dataset into train and test. Lets leave only the last 24 weeks for testing in this case."
      ]
    },
    {
      "cell_type": "code",
      "execution_count": 41,
      "metadata": {
        "id": "xMMKo3fK4UN4"
      },
      "outputs": [],
      "source": [
        "# Split and scale data.\n",
        "test_data_period_size = 24\n",
        "split_point = data_size - test_data_period_size\n",
        "# Media data\n",
        "media_data_train = media_data[:split_point, ...]\n",
        "media_data_test = media_data[split_point:, ...]\n",
        "# Extra features\n",
        "extra_features_train = extra_features[:split_point, ...]\n",
        "extra_features_test = extra_features[split_point:, ...]\n",
        "# Target\n",
        "target_train = target[:split_point]"
      ]
    },
    {
      "cell_type": "markdown",
      "metadata": {
        "id": "A0pZBcF14lPV"
      },
      "source": [
        "Scaling is essential for many modelling problems and this one is no exception.\n",
        "\n",
        "We provide the class `CustomScaler` which behaves accordingly with `sklearn`\n",
        "scalers.\n",
        "\n",
        "In most cases you will need 3 or 4 scalers. One scaler for the media data, one\n",
        "for the target and one for costs. Optionally if you are adding extra features\n",
        "those might need an extra scaler. **It is very important that you save and\n",
        "\"carry with you\" those scalers throughout your MMM journey as LighweightMMM will\n",
        "allow you to re-insert these scalers at different points to ensure everything is\n",
        "always in the correct scale and results. If some results don't make sense, it\n",
        "might be a scaling problem.**"
      ]
    },
    {
      "cell_type": "markdown",
      "metadata": {
        "id": "tGAjohQH4qCO"
      },
      "source": [
        "A few more details on CustomScaler usage:\n",
        "\n",
        "This scaler can be used in two fashions for both the multiplication and division\n",
        "operation. \n",
        "- By specifying a value to use for the scaling operation. \n",
        "- By specifying an operation used at column level to calculate the value for the\n",
        "actual scaling operation.\n",
        "\n",
        "Eg. if one wants to scale the dataset by multiply by 100 you can directly pass\n",
        "multiply_by=100. Value can also be an array of an appropriate shape by which\n",
        "to divide or multiply the data. But if you want to multiply by the mean value of each\n",
        "column, then you can pass multiply_operation=jnp.mean (or any other operation\n",
        "desired).\n",
        "\n",
        "Operation parameters have the upper hand in the cases where both values and\n",
        "operations are passed, values will be ignored in this case.\n",
        "\n",
        "Consult the full class documentation if you still need to know more.\n",
        "\n",
        "In this demo we divide the data on media, extra features and the target by their mean to ensure that the result has a mean of 1. This allows the model to be agnostic to the scale of the inputs (e.g. a user can use either the number of sales or the value of sales). The costs are not used in the model directly, they are only used to inform the prior distributions on the media variables (see the [model documentation](https://lightweight-mmm.readthedocs.io/en/latest/models.html) here). These costs have been scaled down by multiplying by 0.15 to reflect typical ranges in MMMs. "
      ]
    },
    {
      "cell_type": "code",
      "execution_count": 42,
      "metadata": {
        "id": "B-19ZTfx4uh5"
      },
      "outputs": [],
      "source": [
        "media_scaler = preprocessing.CustomScaler(divide_operation=jnp.mean)\n",
        "extra_features_scaler = preprocessing.CustomScaler(divide_operation=jnp.mean)\n",
        "target_scaler = preprocessing.CustomScaler(divide_operation=jnp.mean)\n",
        "cost_scaler = preprocessing.CustomScaler(divide_operation=jnp.mean, multiply_by=0.15)\n",
        "\n",
        "media_data_train = media_scaler.fit_transform(media_data_train)\n",
        "extra_features_train = extra_features_scaler.fit_transform(extra_features_train)\n",
        "target_train = target_scaler.fit_transform(target_train)\n",
        "costs = cost_scaler.fit_transform(costs)"
      ]
    },
    {
      "cell_type": "markdown",
      "metadata": {
        "id": "eiJBiIjVJ4h9"
      },
      "source": [
        "### Training the model"
      ]
    },
    {
      "cell_type": "markdown",
      "metadata": {
        "id": "RNiMpZSjJ8KF"
      },
      "source": [
        "The currently available models are the following: \n",
        "- hill_adstock \n",
        "- adstock \n",
        "- carryover"
      ]
    },
    {
      "cell_type": "code",
      "execution_count": 43,
      "metadata": {
        "id": "nTmDycd3J-Iw"
      },
      "outputs": [],
      "source": [
        "mmm = lightweight_mmm.LightweightMMM(model_name=\"hill_adstock\")"
      ]
    },
    {
      "cell_type": "markdown",
      "metadata": {
        "id": "S2XCraqXKA7B"
      },
      "source": [
        "Training the model will require the following mandatory parameters: \n",
        "- media\n",
        "- total_costs (one value per channel) \n",
        "- target\n",
        "\n",
        "We can optionally also pass the following: \n",
        "- extra_features: Other variables to add to the model. \n",
        "- degrees_seasonality: Number of degrees to use for seasonality. Default is 3. \n",
        "- seasonality_frequency: Frequency of the time period used. Default is 52 as in 52 weeks per year. \n",
        "- media_names: Names of the media channels passed. \n",
        "- number_warmup: Number of warm up samples. Default is 1000. \n",
        "- number_samples: Number of samples during sampling. Default is 1000. \n",
        "- number_chains: Number of chains to sample. Default is 2."
      ]
    },
    {
      "cell_type": "code",
      "execution_count": 44,
      "metadata": {
        "id": "aza-wH0N2d52"
      },
      "outputs": [],
      "source": [
        "number_warmup=1000\n",
        "number_samples=1000"
      ]
    },
    {
      "cell_type": "code",
      "execution_count": 45,
      "metadata": {
        "colab": {
          "base_uri": "https://localhost:8080/"
        },
        "id": "FtVwGQITKDQp",
        "outputId": "30e41ca2-51d2-4362-ad79-04c3bc1e0b77"
      },
      "outputs": [
        {
          "output_type": "stream",
          "name": "stderr",
          "text": [
            "/usr/local/lib/python3.8/dist-packages/lightweight_mmm/lightweight_mmm.py:357: UserWarning: There are not enough devices to run parallel chains: expected 2 but got 1. Chains will be drawn sequentially. If you are running MCMC in CPU, consider using `numpyro.set_host_device_count(2)` at the beginning of your program. You can double-check how many devices are available in your system using `jax.local_device_count()`.\n",
            "  mcmc = numpyro.infer.MCMC(\n",
            "sample: 100%|██████████| 2000/2000 [03:30<00:00,  9.49it/s, 1023 steps of size 1.87e-03. acc. prob=0.92]\n",
            "sample: 100%|██████████| 2000/2000 [03:12<00:00, 10.41it/s, 1023 steps of size 2.05e-03. acc. prob=0.91]\n"
          ]
        }
      ],
      "source": [
        "# For replicability in terms of random number generation in sampling\n",
        "# reuse the same seed for different trainings.\n",
        "mmm.fit(\n",
        "    media=media_data_train,\n",
        "    media_prior=costs,\n",
        "    target=target_train,\n",
        "    extra_features=extra_features_train,\n",
        "    number_warmup=number_warmup,\n",
        "    number_samples=number_samples,\n",
        "    media_names = mdsp_cols,\n",
        "    seed=SEED)"
      ]
    },
    {
      "cell_type": "markdown",
      "metadata": {
        "id": "Qwwi7E61KKdL"
      },
      "source": [
        "\n",
        "You can check the summary of your trace by printing a summary:"
      ]
    },
    {
      "cell_type": "code",
      "execution_count": 46,
      "metadata": {
        "colab": {
          "base_uri": "https://localhost:8080/"
        },
        "id": "sJUiM-1vKMt_",
        "outputId": "4c9ce5f4-bcc2-4ff4-cbf8-57fa407aae7b"
      },
      "outputs": [
        {
          "output_type": "stream",
          "name": "stdout",
          "text": [
            "\n",
            "                                         mean       std    median      5.0%     95.0%     n_eff     r_hat\n",
            "             coef_extra_features[0]     -0.28      0.64     -0.27     -1.39      0.75    273.00      1.01\n",
            "             coef_extra_features[1]     -0.15      0.28     -0.14     -0.63      0.29    367.28      1.00\n",
            "             coef_extra_features[2]     -0.10      0.15     -0.10     -0.34      0.16    432.08      1.00\n",
            "             coef_extra_features[3]      0.70      0.53      0.71     -0.17      1.58    134.12      1.02\n",
            "             coef_extra_features[4]      0.05      0.84      0.03     -1.35      1.33    536.98      1.00\n",
            "             coef_extra_features[5]      0.02      0.71      0.03     -1.18      1.16    256.76      1.00\n",
            "             coef_extra_features[6]     -0.02      0.01     -0.02     -0.03     -0.00    607.77      1.00\n",
            "             coef_extra_features[7]      0.00      0.00      0.00     -0.00      0.01   1093.41      1.00\n",
            "             coef_extra_features[8]      0.01      0.71     -0.00     -1.05      1.27    320.00      1.00\n",
            "             coef_extra_features[9]     -0.00      0.71     -0.01     -1.16      1.18    256.75      1.00\n",
            "            coef_extra_features[10]     -0.01      0.00     -0.01     -0.01     -0.00   1327.05      1.00\n",
            "            coef_extra_features[11]     -0.00      0.00     -0.00     -0.01      0.00   1236.17      1.00\n",
            "            coef_extra_features[12]     -0.02      0.01     -0.02     -0.03     -0.01    892.33      1.00\n",
            "            coef_extra_features[13]      0.00      0.00      0.00     -0.00      0.01   1122.05      1.00\n",
            "            coef_extra_features[14]     -0.00      0.00     -0.00     -0.01      0.01    881.42      1.00\n",
            "            coef_extra_features[15]     -0.00      0.00     -0.00     -0.01      0.00   1074.92      1.00\n",
            "            coef_extra_features[16]      0.01      0.00      0.01      0.00      0.01   1071.89      1.00\n",
            "            coef_extra_features[17]     -0.00      0.00     -0.00     -0.01      0.00    984.17      1.00\n",
            "            coef_extra_features[18]     -0.02      0.01     -0.02     -0.03     -0.00    590.66      1.00\n",
            "            coef_extra_features[19]      0.01      0.01      0.01     -0.00      0.02    586.12      1.00\n",
            "            coef_extra_features[20]      0.01      0.84      0.01     -1.30      1.43    434.38      1.01\n",
            "            coef_extra_features[21]      0.00      0.00      0.00     -0.00      0.01   1109.27      1.00\n",
            "            coef_extra_features[22]      0.00      0.00      0.00     -0.00      0.01    993.39      1.00\n",
            "            coef_extra_features[23]     -0.10      0.86     -0.10     -1.52      1.32    477.36      1.00\n",
            "            coef_extra_features[24]      0.00      0.00      0.00     -0.00      0.01    963.92      1.00\n",
            "            coef_extra_features[25]     -0.01      0.73     -0.01     -1.18      1.20    320.28      1.01\n",
            "            coef_extra_features[26]     -0.07      0.11     -0.07     -0.27      0.10     17.61      1.12\n",
            "            coef_extra_features[27]     -0.08      0.12     -0.08     -0.25      0.14     16.62      1.12\n",
            "            coef_extra_features[28]     -0.07      0.10     -0.07     -0.23      0.08     15.91      1.13\n",
            "            coef_extra_features[29]     -0.10      0.10     -0.10     -0.27      0.05     15.81      1.13\n",
            "            coef_extra_features[30]     -0.14      0.12     -0.14     -0.35      0.05     16.26      1.12\n",
            "            coef_extra_features[31]     -0.12      0.10     -0.12     -0.27      0.05     16.43      1.12\n",
            "            coef_extra_features[32]     -0.15      0.13     -0.14     -0.36      0.06     15.60      1.13\n",
            "            coef_extra_features[33]     -0.20      0.16     -0.20     -0.45      0.08     14.84      1.13\n",
            "            coef_extra_features[34]     -0.17      0.13     -0.17     -0.39      0.03     14.60      1.13\n",
            "            coef_extra_features[35]     -0.11      0.14     -0.10     -0.32      0.13     17.35      1.12\n",
            "            coef_extra_features[36]     -0.04      0.03     -0.04     -0.10      0.01     15.31      1.13\n",
            "            coef_extra_features[37]     -0.02      0.74     -0.02     -1.21      1.19    313.32      1.01\n",
            "            coef_extra_features[38]     -0.03      0.03     -0.03     -0.08      0.02     15.10      1.13\n",
            "            coef_extra_features[39]      0.02      0.86      0.00     -1.26      1.58    475.04      1.00\n",
            "            coef_extra_features[40]     -0.02      0.71      0.00     -1.23      1.10    319.08      1.00\n",
            "            coef_extra_features[41]     -0.02      0.03     -0.02     -0.07      0.03     16.35      1.13\n",
            "            coef_extra_features[42]      0.02      0.03      0.02     -0.04      0.07     16.42      1.13\n",
            "            coef_extra_features[43]      0.01      0.03      0.01     -0.04      0.06     17.00      1.12\n",
            "            coef_extra_features[44]     -0.02      0.03     -0.02     -0.07      0.04     17.67      1.12\n",
            "                      coef_media[0]      0.36      0.27      0.30      0.00      0.74    496.41      1.00\n",
            "                      coef_media[1]      0.04      0.03      0.04      0.00      0.08   1134.71      1.00\n",
            "                      coef_media[2]      0.13      0.09      0.10      0.00      0.26    735.06      1.00\n",
            "                      coef_media[3]      0.06      0.04      0.05      0.00      0.12   1158.20      1.00\n",
            "                      coef_media[4]      0.09      0.06      0.07      0.00      0.18    974.67      1.00\n",
            "                      coef_media[5]      0.05      0.04      0.05      0.00      0.11    826.98      1.00\n",
            "                      coef_media[6]      0.11      0.08      0.10      0.00      0.22    875.85      1.00\n",
            "                      coef_trend[0]      0.00      0.01      0.00     -0.01      0.02    301.72      1.01\n",
            "                         expo_trend      0.67      0.17      0.61      0.50      0.92    392.99      1.01\n",
            "             gamma_seasonality[0,0]      0.21      0.23      0.20     -0.19      0.57    466.02      1.00\n",
            "             gamma_seasonality[0,1]      0.40      0.27      0.40     -0.05      0.85    353.21      1.00\n",
            "             gamma_seasonality[1,0]     -0.10      0.14     -0.10     -0.31      0.14    467.48      1.00\n",
            "             gamma_seasonality[1,1]     -0.23      0.12     -0.23     -0.44     -0.03    499.75      1.01\n",
            "half_max_effective_concentration[0]      0.93      0.97      0.65      0.00      2.17    989.76      1.00\n",
            "half_max_effective_concentration[1]      1.04      0.98      0.76      0.00      2.37   1128.86      1.00\n",
            "half_max_effective_concentration[2]      1.08      1.07      0.75      0.00      2.42    994.80      1.00\n",
            "half_max_effective_concentration[3]      1.01      0.98      0.71      0.00      2.32   1150.23      1.00\n",
            "half_max_effective_concentration[4]      1.01      0.96      0.74      0.00      2.29   1094.10      1.00\n",
            "half_max_effective_concentration[5]      0.97      1.01      0.67      0.00      2.24    935.73      1.00\n",
            "half_max_effective_concentration[6]      0.98      0.99      0.69      0.00      2.26    902.77      1.01\n",
            "                       intercept[0]      1.69      1.19      1.49      0.00      3.34     22.28      1.10\n",
            "                      lag_weight[0]      0.72      0.21      0.77      0.40      1.00    641.65      1.00\n",
            "                      lag_weight[1]      0.67      0.23      0.71      0.32      0.99    661.94      1.00\n",
            "                      lag_weight[2]      0.66      0.24      0.72      0.29      1.00    594.85      1.00\n",
            "                      lag_weight[3]      0.69      0.23      0.74      0.34      1.00    706.86      1.00\n",
            "                      lag_weight[4]      0.67      0.23      0.71      0.33      1.00    702.06      1.00\n",
            "                      lag_weight[5]      0.66      0.24      0.70      0.29      1.00    657.55      1.01\n",
            "                      lag_weight[6]      0.67      0.24      0.72      0.30      1.00    572.35      1.00\n",
            "                           sigma[0]      0.29      0.02      0.29      0.27      0.32    503.16      1.00\n",
            "                           slope[0]      0.87      0.89      0.59      0.00      2.04    741.03      1.00\n",
            "                           slope[1]      0.99      0.94      0.74      0.00      2.24   1166.68      1.00\n",
            "                           slope[2]      0.94      0.92      0.66      0.00      2.15    991.54      1.00\n",
            "                           slope[3]      0.94      0.97      0.62      0.00      2.18   1170.79      1.00\n",
            "                           slope[4]      1.10      1.10      0.75      0.00      2.47    824.01      1.00\n",
            "                           slope[5]      0.94      0.99      0.61      0.00      2.23    962.66      1.00\n",
            "                           slope[6]      1.03      1.01      0.74      0.00      2.30   1836.02      1.00\n",
            "\n",
            "Number of divergences: 1\n"
          ]
        }
      ],
      "source": [
        "mmm.print_summary()"
      ]
    },
    {
      "cell_type": "markdown",
      "metadata": {
        "id": "7npbmDKfKNMX"
      },
      "source": [
        "We can visualise the posterior distributions of the media effects:"
      ]
    },
    {
      "cell_type": "code",
      "execution_count": 47,
      "metadata": {
        "colab": {
          "base_uri": "https://localhost:8080/",
          "height": 1000
        },
        "id": "BpqYqFNqKNTc",
        "outputId": "752d4a1a-b45b-4a57-9947-b5d19dd79723"
      },
      "outputs": [
        {
          "output_type": "execute_result",
          "data": {
            "text/plain": [
              "<Figure size 500x2100 with 7 Axes>"
            ],
            "image/png": "[encoded data removed]"
          },
          "metadata": {},
          "execution_count": 47
        }
      ],
      "source": [
        "plot.plot_media_channel_posteriors(media_mix_model=mmm,  channel_names=mdsp_cols)"
      ]
    },
    {
      "cell_type": "markdown",
      "metadata": {
        "id": "yKk2PTw2rizW"
      },
      "source": [
        "**[*optional*]**\n",
        "\n",
        " LightweightMMM also allows you to visualize the prior and posterior distributions for every model parameter at once. Note that we use a kernel density estimator to smooth these distributions for easier interpretability; you may need to adjust the bandwidth of the smoother depending on the shapes of your distributions. \n",
        "Also, this plot **can take several minutes to run**, especially if using geo-level models. Lowering the number_of_samples_for_prior or restricting to a subset of selected_features can speed up the runtime."
      ]
    },
    {
      "cell_type": "code",
      "execution_count": null,
      "metadata": {
        "id": "x8YXqF37rijq"
      },
      "outputs": [],
      "source": [
        "plot.plot_prior_and_posterior(media_mix_model=mmm)"
      ]
    },
    {
      "cell_type": "markdown",
      "metadata": {
        "id": "AwgyS0W-KNbx"
      },
      "source": [
        "One can also check your model's fit to the training data."
      ]
    },
    {
      "cell_type": "code",
      "execution_count": null,
      "metadata": {
        "id": "tw-TF20IKNi5"
      },
      "outputs": [],
      "source": [
        "# Here is another example where we can pass the target scaler if you want the plot to be in the \"not scaled scale\"\n",
        "plot.plot_model_fit(mmm, target_scaler=target_scaler)"
      ]
    },
    {
      "cell_type": "markdown",
      "metadata": {
        "id": "4v50_s1sKNrN"
      },
      "source": [
        "If one wants to run predictions on unseen data they can rely on the `predict`\n",
        "method:"
      ]
    },
    {
      "cell_type": "code",
      "execution_count": null,
      "metadata": {
        "id": "yQuUUolAKN0W"
      },
      "outputs": [],
      "source": [
        "# We have to scale the test media data if we have not done so before.\n",
        "new_predictions = mmm.predict(media=media_scaler.transform(media_data_test),\n",
        "                              extra_features=extra_features_scaler.transform(extra_features_test),\n",
        "                              seed=SEED)"
      ]
    },
    {
      "cell_type": "code",
      "execution_count": null,
      "metadata": {
        "id": "e0a9JyiMKN8q"
      },
      "outputs": [],
      "source": [
        "plot.plot_out_of_sample_model_fit(out_of_sample_predictions=new_predictions,\n",
        "                                 out_of_sample_target=target_scaler.transform(target[split_point:]))"
      ]
    },
    {
      "cell_type": "markdown",
      "metadata": {
        "id": "MDMW2Pe-KOEm"
      },
      "source": [
        "### Media insights"
      ]
    },
    {
      "cell_type": "code",
      "execution_count": null,
      "metadata": {
        "id": "qQUnoKKQKONT"
      },
      "outputs": [],
      "source": [
        "media_contribution, roi_hat = mmm.get_posterior_metrics(target_scaler=target_scaler, cost_scaler=cost_scaler)"
      ]
    },
    {
      "cell_type": "markdown",
      "metadata": {
        "id": "0ARNXcQnAjjt"
      },
      "source": [
        "We can quickly visualise the estimated media & baseline contribution over time"
      ]
    },
    {
      "cell_type": "code",
      "execution_count": null,
      "metadata": {
        "id": "G7uogajxApbw"
      },
      "outputs": [],
      "source": [
        "plot.plot_media_baseline_contribution_area_plot(media_mix_model=mmm,\n",
        "                                                target_scaler=target_scaler,\n",
        "                                                fig_size=(30,10),\n",
        "                                                channel_names = mdsp_cols\n",
        "                                                )\n",
        "                                                "
      ]
    },
    {
      "cell_type": "markdown",
      "metadata": {
        "id": "szhjLnpHKOWc"
      },
      "source": [
        "We can quickly visualise the estimated media contributions with their respective\n",
        "credibility intervals"
      ]
    },
    {
      "cell_type": "code",
      "execution_count": null,
      "metadata": {
        "id": "Hi3nJDE8KOfk"
      },
      "outputs": [],
      "source": [
        "plot.plot_bars_media_metrics(metric=media_contribution, metric_name=\"Media Contribution Percentage\")"
      ]
    },
    {
      "cell_type": "code",
      "execution_count": null,
      "metadata": {
        "id": "oC82BdUJKOoT"
      },
      "outputs": [],
      "source": [
        "plot.plot_bars_media_metrics(metric=roi_hat, metric_name=\"ROI hat\")"
      ]
    },
    {
      "cell_type": "markdown",
      "metadata": {
        "id": "TR_m4DvmKOx0"
      },
      "source": [
        "Another vital question we can solve with MMMs is how each media channel behaves\n",
        "individually as we invest more in it.\n",
        "\n",
        "For that we can plot the curve response of all media channels with the following\n",
        "function:"
      ]
    },
    {
      "cell_type": "code",
      "execution_count": null,
      "metadata": {
        "id": "w6DfZdyUKO6k"
      },
      "outputs": [],
      "source": [
        "plot.plot_response_curves(media_mix_model=mmm, target_scaler=target_scaler, seed=SEED)"
      ]
    },
    {
      "cell_type": "markdown",
      "metadata": {
        "id": "qNEQkwvZKPDR"
      },
      "source": [
        "### Optimization"
      ]
    },
    {
      "cell_type": "markdown",
      "metadata": {
        "id": "0IslzAcNKPLO"
      },
      "source": [
        "The optimization is meant to solve the budget allocation questions for you.\n",
        "First you need to provide for how long you want to optimize your budget (eg. 15\n",
        "weeks in this case)."
      ]
    },
    {
      "cell_type": "markdown",
      "metadata": {
        "id": "ULQZGNMlKPT6"
      },
      "source": [
        "The optimization values will be bounded by +- 20% of the max and min historic\n",
        "values used for training. Which means the optimization won't recommend to\n",
        "completely change your strategy but how to make some budget re-allocation.\n",
        "\n",
        "You can change that percentage with the following parameters: -\n",
        "bounds_lower_pct - bounds_upper_pct\n",
        "\n",
        "Which can hold 1 value for all channels or 1 value per channel."
      ]
    },
    {
      "cell_type": "markdown",
      "metadata": {
        "id": "xDw5WtooKPde"
      },
      "source": [
        "Prices are the average price you would expect for the media units of each\n",
        "channel. If your data is already a money unit (eg. $) your prices should be an\n",
        "array of 1s."
      ]
    },
    {
      "cell_type": "code",
      "execution_count": null,
      "metadata": {
        "id": "t3TaoXYjKPmr"
      },
      "outputs": [],
      "source": [
        "prices = jnp.ones(mmm.n_media_channels)"
      ]
    },
    {
      "cell_type": "markdown",
      "metadata": {
        "id": "yF6JjbqPKP2R"
      },
      "source": [
        "The budget is how much one would like to allocate throughtout the total of\n",
        "`n_time_periods`. Make sure this amount is inline with the historic spend or\n",
        "otherwise some conditions/bounds in the optimization might not be met."
      ]
    },
    {
      "cell_type": "code",
      "execution_count": null,
      "metadata": {
        "id": "ReGi5AGTL86q"
      },
      "outputs": [],
      "source": [
        "n_time_periods = 10\n",
        "budget = jnp.sum(jnp.dot(prices, media_data.mean(axis=0)))* n_time_periods"
      ]
    },
    {
      "cell_type": "code",
      "execution_count": null,
      "metadata": {
        "id": "qtt9L4aPL-cs"
      },
      "outputs": [],
      "source": [
        "# Run optimization with the parameters of choice.\n",
        "solution, kpi_without_optim, previous_media_allocation = optimize_media.find_optimal_budgets(\n",
        "    n_time_periods=n_time_periods,\n",
        "    media_mix_model=mmm,\n",
        "    extra_features=extra_features_scaler.transform(extra_features_test)[:n_time_periods],\n",
        "    budget=budget,\n",
        "    prices=prices,\n",
        "    media_scaler=media_scaler,\n",
        "    target_scaler=target_scaler,\n",
        "    seed=SEED)"
      ]
    },
    {
      "cell_type": "markdown",
      "metadata": {
        "id": "R1vZcsNYjNyA"
      },
      "source": [
        "If your media data is not in money unit (eg. impressions, clicks, GRPs, etc.), you would need to store the cost per values (eg. CPC) in the prices array and multiply it by solution.x to get the recommended budget allocation.\n",
        "\n"
      ]
    },
    {
      "cell_type": "code",
      "execution_count": null,
      "metadata": {
        "id": "C2FIJu82MAk9"
      },
      "outputs": [],
      "source": [
        "# Obtain the optimal weekly allocation.\n",
        "optimal_buget_allocation = prices * solution.x\n",
        "optimal_buget_allocation"
      ]
    },
    {
      "cell_type": "code",
      "execution_count": null,
      "metadata": {
        "id": "QXG3bDQ5Psvr"
      },
      "outputs": [],
      "source": [
        "# similar renormalization to get previous budget allocation\n",
        "previous_budget_allocation = prices * previous_media_allocation\n",
        "previous_budget_allocation"
      ]
    },
    {
      "cell_type": "code",
      "execution_count": null,
      "metadata": {
        "id": "XS1rHOfaMCBt"
      },
      "outputs": [],
      "source": [
        "# Both these values should be very close in order to compare KPI\n",
        "budget, optimal_buget_allocation.sum()"
      ]
    },
    {
      "cell_type": "markdown",
      "metadata": {
        "id": "LvMc28XKMEt_"
      },
      "source": [
        "We can double check the budget constraint was met:"
      ]
    },
    {
      "cell_type": "code",
      "execution_count": null,
      "metadata": {
        "id": "ffZl2W-pMFrD"
      },
      "outputs": [],
      "source": [
        "# Both numbers should be almost equal\n",
        "budget, jnp.sum(solution.x * prices)"
      ]
    },
    {
      "cell_type": "markdown",
      "metadata": {
        "id": "aK21EDOyzDC3"
      },
      "source": [
        "## We can plot the following:\n",
        "1. Pre post optimization budget allocation comparison for each channel\n",
        "2. Pre post optimization predicted target variable comparison"
      ]
    },
    {
      "cell_type": "code",
      "execution_count": null,
      "metadata": {
        "id": "0jRI8ynqzFip"
      },
      "outputs": [],
      "source": [
        "# Plot out pre post optimization budget allocation and predicted target variable comparison.\n",
        "plot.plot_pre_post_budget_allocation_comparison(media_mix_model=mmm, \n",
        "                                                kpi_with_optim=solution['fun'], \n",
        "                                                kpi_without_optim=kpi_without_optim,\n",
        "                                                optimal_buget_allocation=optimal_buget_allocation, \n",
        "                                                previous_budget_allocation=previous_budget_allocation, \n",
        "                                                figure_size=(10,10),\n",
        "                                                channel_names = mdsp_cols)"
      ]
    },
    {
      "cell_type": "markdown",
      "metadata": {
        "id": "o3UbFu9VSRq9"
      },
      "source": [
        "## Saving the model to disk"
      ]
    },
    {
      "cell_type": "code",
      "execution_count": null,
      "metadata": {
        "id": "aetzKyUOBhwm"
      },
      "outputs": [],
      "source": [
        "# We can use the utilities for saving models to disk.\n",
        "file_path = \"media_mix_model.pkl\"\n",
        "utils.save_model(media_mix_model=mmm, file_path=file_path)"
      ]
    },
    {
      "cell_type": "code",
      "execution_count": null,
      "metadata": {
        "id": "74Fx-1N4HQsJ"
      },
      "outputs": [],
      "source": [
        "# Once saved one can load the models.\n",
        "loaded_mmm = utils.load_model(file_path=file_path)\n",
        "loaded_mmm.trace[\"coef_media\"].shape # Example of accessing any of the model values."
      ]
    },
    {
      "cell_type": "code",
      "execution_count": null,
      "metadata": {
        "id": "9-sQSJa4s3Es"
      },
      "outputs": [],
      "source": []
    }
  ],
  "metadata": {
    "colab": {
      "collapsed_sections": [
        "MDMW2Pe-KOEm",
        "qNEQkwvZKPDR"
      ],
      "provenance": [],
      "include_colab_link": true
    },
    "kernelspec": {
      "display_name": "Python 3",
      "name": "python3"
    },
    "language_info": {
      "name": "python"
    }
  },
  "nbformat": 4,
  "nbformat_minor": 0
}